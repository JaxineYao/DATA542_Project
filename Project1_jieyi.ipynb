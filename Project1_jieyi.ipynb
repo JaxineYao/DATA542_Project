{
 "cells": [
  {
   "cell_type": "markdown",
   "metadata": {},
   "source": [
    "Jieyi Yao, Foster Lockerbie"
   ]
  },
  {
   "cell_type": "markdown",
   "metadata": {},
   "source": [
    "## Importing + Data Preprocessing"
   ]
  },
  {
   "cell_type": "code",
   "execution_count": 17,
   "metadata": {},
   "outputs": [],
   "source": [
    "import glob\n",
    "import json\n",
    "import pandas as pd\n",
    "import spacy\n",
    "import re\n",
    "from collections import Counter\n",
    "import matplotlib.pyplot as plt\n",
    "from transformers import pipeline"
   ]
  },
  {
   "cell_type": "code",
   "execution_count": 18,
   "metadata": {},
   "outputs": [
    {
     "name": "stdout",
     "output_type": "stream",
     "text": [
      "Error processing file DevGPT/snapshot_20230824/20230824_101836_issue_sharings.json: name 'classify_issue' is not defined\n",
      "Error processing file DevGPT/snapshot_20230831/20230831_061759_issue_sharings.json: name 'classify_issue' is not defined\n",
      "Error processing file DevGPT/snapshot_20230727/20230727_195941_issue_sharings.json: name 'classify_issue' is not defined\n",
      "Error processing file DevGPT/snapshot_20230810/20230810_123938_issue_sharings.json: name 'classify_issue' is not defined\n",
      "Error processing file DevGPT/snapshot_20230817/20230817_130502_issue_sharings.json: name 'classify_issue' is not defined\n",
      "Error processing file DevGPT/snapshot_20230803/20230803_094705_issue_sharings.json: name 'classify_issue' is not defined\n"
     ]
    }
   ],
   "source": [
    "file_pattern = \"DevGPT/snapshot_*/**/*_issue_sharings.json\"\n",
    "\n",
    "file_paths = glob.glob(file_pattern, recursive=True)\n",
    "\n",
    "combined_dfs = []\n",
    "\n",
    "# Loop through each file and process\n",
    "for file_path in file_paths:\n",
    "    try:\n",
    "        # Load JSON file\n",
    "        with open(file_path, 'r') as file:\n",
    "            data = json.load(file)\n",
    "        \n",
    "        # Flatten the JSON structure\n",
    "        df = pd.json_normalize(\n",
    "            data[\"Sources\"],\n",
    "            record_path=[\"ChatgptSharing\"],  # Path to nested data\n",
    "            meta=[\"Author\"],  # Include top-level metadata\n",
    "            sep=\"_\"\n",
    "        )\n",
    "        \n",
    "        # Convert date columns to datetime\n",
    "        df['DateOfConversation'] = pd.to_datetime(df.get('DateOfConversation'), errors='coerce')\n",
    "        df['DateOfAccess'] = pd.to_datetime(df.get('DateOfAccess'), errors='coerce')\n",
    "        \n",
    "        # Handle missing values in 'Title'\n",
    "        df['Title'] = df['Title'].fillna('Unknown')\n",
    "        \n",
    "        # Classify issues based on 'Title'\n",
    "        df['IssueType'] = df['Title'].apply(classify_issue)\n",
    "        \n",
    "        # Save individual file results as CSV\n",
    "        output_file = file_path.replace(\".json\", \".csv\")\n",
    "        df.to_csv(output_file, index=False)\n",
    "        print(f\"Processed and saved: {output_file}\")\n",
    "        \n",
    "        # Optionally store the DataFrame for later merging\n",
    "        combined_dfs.append(df)\n",
    "    \n",
    "    except Exception as e:\n",
    "        print(f\"Error processing file {file_path}: {e}\")\n",
    "\n",
    "# Optional: Combine all DataFrames into one\n",
    "if combined_dfs:\n",
    "    combined_data = pd.concat(combined_dfs, ignore_index=True)\n",
    "    combined_data.to_csv(\"combined_issue_sharings.csv\", index=False)\n",
    "    print(\"All files combined and saved as combined_issue_sharings.csv\")"
   ]
  },
  {
   "cell_type": "code",
   "execution_count": 19,
   "metadata": {},
   "outputs": [],
   "source": [
    "df = pd.read_csv('combined_issue_sharings.csv')\n",
    "df['DateOfConversation'] = pd.to_datetime(df['DateOfConversation'], errors='coerce')\n",
    "df['DateOfAccess'] = pd.to_datetime(df['DateOfAccess'], errors='coerce')\n",
    "df.fillna({'Title': 'No Title', 'HTMLContent': ''}, inplace=True)\n",
    "df['TokenEfficiency'] = df['TokensOfAnswers'] / df['TokensOfPrompts']\n",
    "\n",
    "df.to_csv('cleaned_data.csv', index=False)"
   ]
  },
  {
   "cell_type": "code",
   "execution_count": 20,
   "metadata": {},
   "outputs": [
    {
     "name": "stdout",
     "output_type": "stream",
     "text": [
      "<class 'pandas.core.frame.DataFrame'>\n",
      "RangeIndex: 2089 entries, 0 to 2088\n",
      "Data columns (total 18 columns):\n",
      " #   Column                     Non-Null Count  Dtype  \n",
      "---  ------                     --------------  -----  \n",
      " 0   URL                        2089 non-null   object \n",
      " 1   Status                     2089 non-null   int64  \n",
      " 2   DateOfConversation         1797 non-null   object \n",
      " 3   DateOfAccess               1896 non-null   object \n",
      " 4   Title                      2089 non-null   object \n",
      " 5   NumberOfPrompts            1896 non-null   float64\n",
      " 6   TokensOfPrompts            1896 non-null   float64\n",
      " 7   TokensOfAnswers            1896 non-null   float64\n",
      " 8   Model                      1632 non-null   object \n",
      " 9   Conversations              1896 non-null   object \n",
      " 10  HTMLContent                1896 non-null   object \n",
      " 11  Mention_MentionedURL       2089 non-null   object \n",
      " 12  Mention_MentionedProperty  2089 non-null   object \n",
      " 13  Mention_MentionedAuthor    2089 non-null   object \n",
      " 14  Mention_MentionedText      2089 non-null   object \n",
      " 15  Author                     2089 non-null   object \n",
      " 16  IssueType                  2089 non-null   object \n",
      " 17  TokenEfficiency            1896 non-null   float64\n",
      "dtypes: float64(4), int64(1), object(13)\n",
      "memory usage: 293.9+ KB\n"
     ]
    }
   ],
   "source": [
    "df = pd.read_csv('cleaned_data.csv')\n",
    "df.info()"
   ]
  },
  {
   "cell_type": "code",
   "execution_count": 21,
   "metadata": {},
   "outputs": [
    {
     "data": {
      "text/plain": [
       "\"categories = {\\n    'Bug': ['bug', 'error', 'issue', 'fix'],\\n    'Feature Request': ['feature', 'request', 'implement', 'add'],\\n    'Theoretical Question': ['theoretical', 'concept', 'explain', 'understand'],\\n    'Optimization': ['optimize', 'performance', 'improve', 'efficient']\\n}\\n\\ndef classify_issue(title):\\n    for category, keywords in categories.items():\\n        if any(keyword.lower() in title.lower() for keyword in keywords):\\n            return category\\n    return 'Other'\\n\\ndf['IssueType'] = df['Title'].apply(classify_issue)\\n\\n\\nprint(df['IssueType'].value_counts())\""
      ]
     },
     "execution_count": 21,
     "metadata": {},
     "output_type": "execute_result"
    }
   ],
   "source": [
    "'''categories = {\n",
    "    'Bug': ['bug', 'error', 'issue', 'fix'],\n",
    "    'Feature Request': ['feature', 'request', 'implement', 'add'],\n",
    "    'Theoretical Question': ['theoretical', 'concept', 'explain', 'understand'],\n",
    "    'Optimization': ['optimize', 'performance', 'improve', 'efficient']\n",
    "}\n",
    "\n",
    "def classify_issue(title):\n",
    "    for category, keywords in categories.items():\n",
    "        if any(keyword.lower() in title.lower() for keyword in keywords):\n",
    "            return category\n",
    "    return 'Other'\n",
    "\n",
    "df['IssueType'] = df['Title'].apply(classify_issue)\n",
    "\n",
    "\n",
    "print(df['IssueType'].value_counts())'''"
   ]
  },
  {
   "cell_type": "code",
   "execution_count": 6,
   "metadata": {},
   "outputs": [
    {
     "data": {
      "text/plain": [
       "\"\\nissue_counts = df['IssueType'].value_counts()\\nprint(issue_counts)\\n\\nimport matplotlib.pyplot as plt\\n\\nissue_counts.plot(kind='bar', title='Types of Issues')\\nplt.xlabel('Issue Type')\\nplt.ylabel('Count')\\nplt.show()\\n\""
      ]
     },
     "execution_count": 22,
     "metadata": {},
     "output_type": "execute_result"
    }
   ],
   "source": [
    "'''\n",
    "issue_counts = df['IssueType'].value_counts()\n",
    "print(issue_counts)\n",
    "\n",
    "import matplotlib.pyplot as plt\n",
    "\n",
    "issue_counts.plot(kind='bar', title='Types of Issues')\n",
    "plt.xlabel('Issue Type')\n",
    "plt.ylabel('Count')\n",
    "plt.show()\n",
    "'''"
   ]
  },
  {
   "cell_type": "code",
   "execution_count": 23,
   "metadata": {},
   "outputs": [
    {
     "name": "stdout",
     "output_type": "stream",
     "text": [
      "Top keywords: ['answer' 'code' 'code_block_0' 'content' 'data' 'div' 'file' 'id'\n",
      " 'listofcode' 'model' 'prompt' 'py' 'python' 'replacestring' 'response'\n",
      " 'return' 'self' 'type' 'use' 'using']\n"
     ]
    }
   ],
   "source": [
    "from sklearn.feature_extraction.text import CountVectorizer\n",
    "\n",
    "# Replace NaN values with an empty string\n",
    "df['Conversations'] = df['Conversations'].fillna(\"\")\n",
    "\n",
    "# Ensure all entries in the column are strings\n",
    "df['Conversations'] = df['Conversations'].astype(str)\n",
    "\n",
    "# Extract keywords using CountVectorizer\n",
    "vectorizer = CountVectorizer(stop_words='english', max_features=20)\n",
    "keywords_matrix = vectorizer.fit_transform(df['Conversations'])\n",
    "\n",
    "# Get feature names (keywords)\n",
    "keywords = vectorizer.get_feature_names_out()\n",
    "\n",
    "# Print extracted keywords\n",
    "print(\"Top keywords:\", keywords)\n",
    "pd.DataFrame({\"Keywords\": keywords}).to_csv(\"keywords.csv\", index=False)"
   ]
  },
  {
   "cell_type": "code",
   "execution_count": 24,
   "metadata": {},
   "outputs": [
    {
     "name": "stdout",
     "output_type": "stream",
     "text": [
      "                      TokensOfPrompts  TokensOfAnswers\n",
      "IssueType                                             \n",
      "Bug                        974.807107      1584.360406\n",
      "Feature Request           2120.270270      2741.810811\n",
      "Optimization               604.652174       550.608696\n",
      "Other                      685.992424      1808.469066\n",
      "Theoretical Question      1248.333333      3251.000000\n"
     ]
    }
   ],
   "source": [
    "token_summary = df.groupby('IssueType')[['TokensOfPrompts', 'TokensOfAnswers']].mean()\n",
    "print(token_summary)"
   ]
  },
  {
   "cell_type": "code",
   "execution_count": 25,
   "metadata": {},
   "outputs": [
    {
     "name": "stdout",
     "output_type": "stream",
     "text": [
      "Language usage:\n",
      "JavaScript: 1854\n",
      "Python: 1297\n",
      "Java: 34\n",
      "CSS: 605\n",
      "Unknown: 193\n",
      "HTML: 2\n"
     ]
    }
   ],
   "source": [
    "language_patterns = {\n",
    "    'Python': r'\\bdef\\b|\\bimport\\b|\\bprint\\(',\n",
    "    'JavaScript': r'\\bfunction\\b|\\bvar\\b|\\blet\\b|\\bconsole\\.log\\(',\n",
    "    'Java': r'\\bpublic class\\b|\\bSystem\\.out\\.println\\b',\n",
    "    'HTML': r'<html>|<head>|<body>',\n",
    "    'CSS': r'\\{|\\bcolor:\\b|\\bfont-size\\b',\n",
    "    'SQL': r'\\bSELECT\\b|\\bFROM\\b|\\bWHERE\\b'\n",
    "}\n",
    "\n",
    "# Function to detect language\n",
    "def detect_language(code_snippet):\n",
    "    for language, pattern in language_patterns.items():\n",
    "        if re.search(pattern, code_snippet, re.IGNORECASE):\n",
    "            return language\n",
    "    return 'Unknown'\n",
    "\n",
    "# Combine code snippets from relevant columns\n",
    "code_snippets = df['HTMLContent'].dropna().tolist() + df['Conversations'].dropna().tolist()\n",
    "\n",
    "# Detect languages\n",
    "detected_languages = [detect_language(snippet) for snippet in code_snippets]\n",
    "\n",
    "# Count occurrences of each language\n",
    "language_counts = Counter(detected_languages)\n",
    "\n",
    "# Display results\n",
    "print(\"Language usage:\")\n",
    "for language, count in language_counts.items():\n",
    "    print(f\"{language}: {count}\")"
   ]
  },
  {
   "cell_type": "code",
   "execution_count": 26,
   "metadata": {},
   "outputs": [
    {
     "data": {
      "image/png": "[encoded data removed]",
      "text/plain": [
       "<Figure size 640x480 with 1 Axes>"
      ]
     },
     "metadata": {},
     "output_type": "display_data"
    }
   ],
   "source": [
    "\n",
    "# Convert language counts to DataFrame\n",
    "language_df = pd.DataFrame(language_counts.items(), columns=['Language', 'Count'])\n",
    "\n",
    "# Plot bar chart\n",
    "language_df.sort_values('Count', ascending=False).plot(\n",
    "    kind='bar', x='Language', y='Count', legend=False, title='Programming Language Usage'\n",
    ")\n",
    "plt.ylabel('Count')\n",
    "plt.show()"
   ]
  },
  {
   "cell_type": "code",
   "execution_count": 27,
   "metadata": {},
   "outputs": [
    {
     "name": "stdout",
     "output_type": "stream",
     "text": [
      "<class 'pandas.core.frame.DataFrame'>\n",
      "RangeIndex: 2089 entries, 0 to 2088\n",
      "Data columns (total 18 columns):\n",
      " #   Column                     Non-Null Count  Dtype  \n",
      "---  ------                     --------------  -----  \n",
      " 0   URL                        2089 non-null   object \n",
      " 1   Status                     2089 non-null   int64  \n",
      " 2   DateOfConversation         1797 non-null   object \n",
      " 3   DateOfAccess               1896 non-null   object \n",
      " 4   Title                      2089 non-null   object \n",
      " 5   NumberOfPrompts            1896 non-null   float64\n",
      " 6   TokensOfPrompts            1896 non-null   float64\n",
      " 7   TokensOfAnswers            1896 non-null   float64\n",
      " 8   Model                      1632 non-null   object \n",
      " 9   Conversations              2089 non-null   object \n",
      " 10  HTMLContent                1896 non-null   object \n",
      " 11  Mention_MentionedURL       2089 non-null   object \n",
      " 12  Mention_MentionedProperty  2089 non-null   object \n",
      " 13  Mention_MentionedAuthor    2089 non-null   object \n",
      " 14  Mention_MentionedText      2089 non-null   object \n",
      " 15  Author                     2089 non-null   object \n",
      " 16  IssueType                  2089 non-null   object \n",
      " 17  TokenEfficiency            1896 non-null   float64\n",
      "dtypes: float64(4), int64(1), object(13)\n",
      "memory usage: 293.9+ KB\n"
     ]
    }
   ],
   "source": [
    "nlp = spacy.load(\"en_core_web_sm\")\n",
    "df.info()"
   ]
  },
  {
   "cell_type": "code",
   "execution_count": 28,
   "metadata": {},
   "outputs": [
    {
     "name": "stderr",
     "output_type": "stream",
     "text": [
      "Some weights of the model checkpoint at bert-base-uncased were not used when initializing BertForMaskedLM: ['bert.pooler.dense.bias', 'bert.pooler.dense.weight', 'cls.seq_relationship.bias', 'cls.seq_relationship.weight']\n",
      "- This IS expected if you are initializing BertForMaskedLM from the checkpoint of a model trained on another task or with another architecture (e.g. initializing a BertForSequenceClassification model from a BertForPreTraining model).\n",
      "- This IS NOT expected if you are initializing BertForMaskedLM from the checkpoint of a model that you expect to be exactly identical (initializing a BertForSequenceClassification model from a BertForSequenceClassification model).\n",
      "Device set to use mps:0\n"
     ]
    },
    {
     "name": "stdout",
     "output_type": "stream",
     "text": [
      "Pipeline loaded successfully!\n",
      "Expanded categories saved to expanded_categories.csv\n",
      "Bug: ['issue', 'high', 'important', 'simple', 'bug', 'small', 'difficult', 'fix', 'serious', 'sensitive', 'rare', 'variable', 'complicated', 'large', 'common', 'error']\n",
      "Feature Request: ['specific', 'simple', 'unusual', 'fast', 'short', 'request', 'clear', 'rare', 'distinctive', 'implement', 'add', 'efficient', 'feature']\n",
      "Theoretical Question: ['detailed', 'simple', 'good', 'clear', 'explain', 'concept', 'complicated', 'basic', 'complex', 'understand', 'theoretical']\n",
      "Optimization: ['simple', 'fast', 'good', 'optimize', 'small', 'improve', 'excellent', 'performance', 'impressive', 'efficient']\n"
     ]
    }
   ],
   "source": [
    "fill_mask = pipeline(\"fill-mask\", model=\"bert-base-uncased\", framework=\"pt\")\n",
    "\n",
    "print(\"Pipeline loaded successfully!\")\n",
    "\n",
    "categories = {\n",
    "    'Bug': ['bug', 'error', 'issue', 'fix'],\n",
    "    'Feature Request': ['feature', 'request', 'implement', 'add'],\n",
    "    'Theoretical Question': ['theoretical', 'concept', 'explain', 'understand'],\n",
    "    'Optimization': ['optimize', 'performance', 'improve', 'efficient']\n",
    "}\n",
    "\n",
    "\n",
    "def expand_keywords_huggingface(keyword_list, top_n=3):\n",
    "    expanded_keywords = set(keyword_list)\n",
    "    for keyword in keyword_list:\n",
    "        results = fill_mask(f\"The {keyword} is very [MASK].\")\n",
    "        for result in results[:top_n]:\n",
    "            expanded_keywords.add(result['token_str'])\n",
    "    return list(expanded_keywords)\n",
    "\n",
    "expanded_categories = {\n",
    "    category: expand_keywords_huggingface(keywords)\n",
    "    for category, keywords in categories.items()\n",
    "}\n",
    "df_expanded_categories = pd.DataFrame.from_dict(expanded_categories, orient='index').transpose()\n",
    "\n",
    "csv_file_path = \"expanded_categories.csv\"\n",
    "df_expanded_categories.to_csv(csv_file_path, index=False)\n",
    "\n",
    "print(f\"Expanded categories saved to {csv_file_path}\")\n",
    "for category, keywords in expanded_categories.items():\n",
    "    print(f\"{category}: {keywords}\")"
   ]
  },
  {
   "cell_type": "code",
   "execution_count": 29,
   "metadata": {},
   "outputs": [
    {
     "name": "stdout",
     "output_type": "stream",
     "text": [
      "<class 'pandas.core.frame.DataFrame'>\n",
      "RangeIndex: 2089 entries, 0 to 2088\n",
      "Data columns (total 18 columns):\n",
      " #   Column                     Non-Null Count  Dtype  \n",
      "---  ------                     --------------  -----  \n",
      " 0   URL                        2089 non-null   object \n",
      " 1   Status                     2089 non-null   int64  \n",
      " 2   DateOfConversation         1797 non-null   object \n",
      " 3   DateOfAccess               1896 non-null   object \n",
      " 4   Title                      2089 non-null   object \n",
      " 5   NumberOfPrompts            1896 non-null   float64\n",
      " 6   TokensOfPrompts            1896 non-null   float64\n",
      " 7   TokensOfAnswers            1896 non-null   float64\n",
      " 8   Model                      1632 non-null   object \n",
      " 9   Conversations              2089 non-null   object \n",
      " 10  HTMLContent                1896 non-null   object \n",
      " 11  Mention_MentionedURL       2089 non-null   object \n",
      " 12  Mention_MentionedProperty  2089 non-null   object \n",
      " 13  Mention_MentionedAuthor    2089 non-null   object \n",
      " 14  Mention_MentionedText      2089 non-null   object \n",
      " 15  Author                     2089 non-null   object \n",
      " 16  IssueType                  2089 non-null   object \n",
      " 17  TokenEfficiency            1896 non-null   float64\n",
      "dtypes: float64(4), int64(1), object(13)\n",
      "memory usage: 293.9+ KB\n"
     ]
    }
   ],
   "source": [
    "df.info()"
   ]
  },
  {
   "cell_type": "code",
   "execution_count": 30,
   "metadata": {},
   "outputs": [
    {
     "name": "stderr",
     "output_type": "stream",
     "text": [
      "huggingface/tokenizers: The current process just got forked, after parallelism has already been used. Disabling parallelism to avoid deadlocks...\n",
      "To disable this warning, you can either:\n",
      "\t- Avoid using `tokenizers` before the fork if possible\n",
      "\t- Explicitly set the environment variable TOKENIZERS_PARALLELISM=(true | false)\n",
      "huggingface/tokenizers: The current process just got forked, after parallelism has already been used. Disabling parallelism to avoid deadlocks...\n",
      "To disable this warning, you can either:\n",
      "\t- Avoid using `tokenizers` before the fork if possible\n",
      "\t- Explicitly set the environment variable TOKENIZERS_PARALLELISM=(true | false)\n",
      "huggingface/tokenizers: The current process just got forked, after parallelism has already been used. Disabling parallelism to avoid deadlocks...\n",
      "To disable this warning, you can either:\n",
      "\t- Avoid using `tokenizers` before the fork if possible\n",
      "\t- Explicitly set the environment variable TOKENIZERS_PARALLELISM=(true | false)\n",
      "huggingface/tokenizers: The current process just got forked, after parallelism has already been used. Disabling parallelism to avoid deadlocks...\n",
      "To disable this warning, you can either:\n",
      "\t- Avoid using `tokenizers` before the fork if possible\n",
      "\t- Explicitly set the environment variable TOKENIZERS_PARALLELISM=(true | false)\n",
      "huggingface/tokenizers: The current process just got forked, after parallelism has already been used. Disabling parallelism to avoid deadlocks...\n",
      "To disable this warning, you can either:\n",
      "\t- Avoid using `tokenizers` before the fork if possible\n",
      "\t- Explicitly set the environment variable TOKENIZERS_PARALLELISM=(true | false)\n",
      "huggingface/tokenizers: The current process just got forked, after parallelism has already been used. Disabling parallelism to avoid deadlocks...\n",
      "To disable this warning, you can either:\n",
      "\t- Avoid using `tokenizers` before the fork if possible\n",
      "\t- Explicitly set the environment variable TOKENIZERS_PARALLELISM=(true | false)\n",
      "huggingface/tokenizers: The current process just got forked, after parallelism has already been used. Disabling parallelism to avoid deadlocks...\n",
      "To disable this warning, you can either:\n",
      "\t- Avoid using `tokenizers` before the fork if possible\n",
      "\t- Explicitly set the environment variable TOKENIZERS_PARALLELISM=(true | false)\n",
      "huggingface/tokenizers: The current process just got forked, after parallelism has already been used. Disabling parallelism to avoid deadlocks...\n",
      "To disable this warning, you can either:\n",
      "\t- Avoid using `tokenizers` before the fork if possible\n",
      "\t- Explicitly set the environment variable TOKENIZERS_PARALLELISM=(true | false)\n",
      "huggingface/tokenizers: The current process just got forked, after parallelism has already been used. Disabling parallelism to avoid deadlocks...\n",
      "To disable this warning, you can either:\n",
      "\t- Avoid using `tokenizers` before the fork if possible\n",
      "\t- Explicitly set the environment variable TOKENIZERS_PARALLELISM=(true | false)\n",
      "huggingface/tokenizers: The current process just got forked, after parallelism has already been used. Disabling parallelism to avoid deadlocks...\n",
      "To disable this warning, you can either:\n",
      "\t- Avoid using `tokenizers` before the fork if possible\n",
      "\t- Explicitly set the environment variable TOKENIZERS_PARALLELISM=(true | false)\n"
     ]
    },
    {
     "ename": "KeyboardInterrupt",
     "evalue": "",
     "output_type": "error",
     "traceback": [
      "\u001b[0;31m---------------------------------------------------------------------------\u001b[0m",
      "\u001b[0;31mKeyboardInterrupt\u001b[0m                         Traceback (most recent call last)",
      "Cell \u001b[0;32mIn[30], line 20\u001b[0m\n\u001b[1;32m     17\u001b[0m chunk \u001b[38;5;241m=\u001b[39m text_column[i:i \u001b[38;5;241m+\u001b[39m chunk_size]\n\u001b[1;32m     19\u001b[0m \u001b[38;5;66;03m# Use multi-threading with nlp.pipe\u001b[39;00m\n\u001b[0;32m---> 20\u001b[0m docs \u001b[38;5;241m=\u001b[39m \u001b[38;5;28mlist\u001b[39m(nlp\u001b[38;5;241m.\u001b[39mpipe(chunk, n_process\u001b[38;5;241m=\u001b[39m\u001b[38;5;241m-\u001b[39m\u001b[38;5;241m1\u001b[39m, batch_size\u001b[38;5;241m=\u001b[39m\u001b[38;5;241m100\u001b[39m))\n\u001b[1;32m     22\u001b[0m \u001b[38;5;28;01mfor\u001b[39;00m doc \u001b[38;5;129;01min\u001b[39;00m docs:\n\u001b[1;32m     23\u001b[0m     \u001b[38;5;66;03m# Cleaned tokens: lowercase, no stopwords, no spaces, only alphabetic tokens\u001b[39;00m\n\u001b[1;32m     24\u001b[0m     cleaned_tokens \u001b[38;5;241m=\u001b[39m [\n\u001b[1;32m     25\u001b[0m         t\u001b[38;5;241m.\u001b[39mlower_ \u001b[38;5;28;01mfor\u001b[39;00m t \u001b[38;5;129;01min\u001b[39;00m doc\n\u001b[1;32m     26\u001b[0m         \u001b[38;5;28;01mif\u001b[39;00m \u001b[38;5;129;01mnot\u001b[39;00m t\u001b[38;5;241m.\u001b[39mis_stop \u001b[38;5;129;01mand\u001b[39;00m \u001b[38;5;129;01mnot\u001b[39;00m t\u001b[38;5;241m.\u001b[39mis_space \u001b[38;5;129;01mand\u001b[39;00m t\u001b[38;5;241m.\u001b[39mis_alpha\n\u001b[1;32m     27\u001b[0m     ]\n",
      "File \u001b[0;32m/opt/anaconda3/lib/python3.12/site-packages/spacy/language.py:1618\u001b[0m, in \u001b[0;36mLanguage.pipe\u001b[0;34m(self, texts, as_tuples, batch_size, disable, component_cfg, n_process)\u001b[0m\n\u001b[1;32m   1616\u001b[0m     \u001b[38;5;28;01mfor\u001b[39;00m pipe \u001b[38;5;129;01min\u001b[39;00m pipes:\n\u001b[1;32m   1617\u001b[0m         docs \u001b[38;5;241m=\u001b[39m pipe(docs)\n\u001b[0;32m-> 1618\u001b[0m \u001b[38;5;28;01mfor\u001b[39;00m doc \u001b[38;5;129;01min\u001b[39;00m docs:\n\u001b[1;32m   1619\u001b[0m     \u001b[38;5;28;01myield\u001b[39;00m doc\n",
      "File \u001b[0;32m/opt/anaconda3/lib/python3.12/site-packages/spacy/language.py:1692\u001b[0m, in \u001b[0;36mLanguage._multiprocessing_pipe\u001b[0;34m(self, texts, pipes, n_process, batch_size)\u001b[0m\n\u001b[1;32m   1688\u001b[0m byte_tuples \u001b[38;5;241m=\u001b[39m chain\u001b[38;5;241m.\u001b[39mfrom_iterable(\n\u001b[1;32m   1689\u001b[0m     recv\u001b[38;5;241m.\u001b[39mrecv() \u001b[38;5;28;01mfor\u001b[39;00m recv \u001b[38;5;129;01min\u001b[39;00m cycle(bytedocs_recv_ch)\n\u001b[1;32m   1690\u001b[0m )\n\u001b[1;32m   1691\u001b[0m \u001b[38;5;28;01mtry\u001b[39;00m:\n\u001b[0;32m-> 1692\u001b[0m     \u001b[38;5;28;01mfor\u001b[39;00m i, (_, (byte_doc, context, byte_error)) \u001b[38;5;129;01min\u001b[39;00m \u001b[38;5;28menumerate\u001b[39m(\n\u001b[1;32m   1693\u001b[0m         \u001b[38;5;28mzip\u001b[39m(raw_texts, byte_tuples), \u001b[38;5;241m1\u001b[39m\n\u001b[1;32m   1694\u001b[0m     ):\n\u001b[1;32m   1695\u001b[0m         \u001b[38;5;28;01mif\u001b[39;00m byte_doc \u001b[38;5;129;01mis\u001b[39;00m \u001b[38;5;129;01mnot\u001b[39;00m \u001b[38;5;28;01mNone\u001b[39;00m:\n\u001b[1;32m   1696\u001b[0m             doc \u001b[38;5;241m=\u001b[39m Doc(\u001b[38;5;28mself\u001b[39m\u001b[38;5;241m.\u001b[39mvocab)\u001b[38;5;241m.\u001b[39mfrom_bytes(byte_doc)\n",
      "File \u001b[0;32m/opt/anaconda3/lib/python3.12/site-packages/spacy/language.py:1689\u001b[0m, in \u001b[0;36m<genexpr>\u001b[0;34m(.0)\u001b[0m\n\u001b[1;32m   1684\u001b[0m     proc\u001b[38;5;241m.\u001b[39mstart()\n\u001b[1;32m   1686\u001b[0m \u001b[38;5;66;03m# Cycle channels not to break the order of docs.\u001b[39;00m\n\u001b[1;32m   1687\u001b[0m \u001b[38;5;66;03m# The received object is a batch of byte-encoded docs, so flatten them with chain.from_iterable.\u001b[39;00m\n\u001b[1;32m   1688\u001b[0m byte_tuples \u001b[38;5;241m=\u001b[39m chain\u001b[38;5;241m.\u001b[39mfrom_iterable(\n\u001b[0;32m-> 1689\u001b[0m     recv\u001b[38;5;241m.\u001b[39mrecv() \u001b[38;5;28;01mfor\u001b[39;00m recv \u001b[38;5;129;01min\u001b[39;00m cycle(bytedocs_recv_ch)\n\u001b[1;32m   1690\u001b[0m )\n\u001b[1;32m   1691\u001b[0m \u001b[38;5;28;01mtry\u001b[39;00m:\n\u001b[1;32m   1692\u001b[0m     \u001b[38;5;28;01mfor\u001b[39;00m i, (_, (byte_doc, context, byte_error)) \u001b[38;5;129;01min\u001b[39;00m \u001b[38;5;28menumerate\u001b[39m(\n\u001b[1;32m   1693\u001b[0m         \u001b[38;5;28mzip\u001b[39m(raw_texts, byte_tuples), \u001b[38;5;241m1\u001b[39m\n\u001b[1;32m   1694\u001b[0m     ):\n",
      "File \u001b[0;32m/opt/anaconda3/lib/python3.12/multiprocessing/connection.py:250\u001b[0m, in \u001b[0;36m_ConnectionBase.recv\u001b[0;34m(self)\u001b[0m\n\u001b[1;32m    248\u001b[0m \u001b[38;5;28mself\u001b[39m\u001b[38;5;241m.\u001b[39m_check_closed()\n\u001b[1;32m    249\u001b[0m \u001b[38;5;28mself\u001b[39m\u001b[38;5;241m.\u001b[39m_check_readable()\n\u001b[0;32m--> 250\u001b[0m buf \u001b[38;5;241m=\u001b[39m \u001b[38;5;28mself\u001b[39m\u001b[38;5;241m.\u001b[39m_recv_bytes()\n\u001b[1;32m    251\u001b[0m \u001b[38;5;28;01mreturn\u001b[39;00m _ForkingPickler\u001b[38;5;241m.\u001b[39mloads(buf\u001b[38;5;241m.\u001b[39mgetbuffer())\n",
      "File \u001b[0;32m/opt/anaconda3/lib/python3.12/multiprocessing/connection.py:430\u001b[0m, in \u001b[0;36mConnection._recv_bytes\u001b[0;34m(self, maxsize)\u001b[0m\n\u001b[1;32m    429\u001b[0m \u001b[38;5;28;01mdef\u001b[39;00m \u001b[38;5;21m_recv_bytes\u001b[39m(\u001b[38;5;28mself\u001b[39m, maxsize\u001b[38;5;241m=\u001b[39m\u001b[38;5;28;01mNone\u001b[39;00m):\n\u001b[0;32m--> 430\u001b[0m     buf \u001b[38;5;241m=\u001b[39m \u001b[38;5;28mself\u001b[39m\u001b[38;5;241m.\u001b[39m_recv(\u001b[38;5;241m4\u001b[39m)\n\u001b[1;32m    431\u001b[0m     size, \u001b[38;5;241m=\u001b[39m struct\u001b[38;5;241m.\u001b[39munpack(\u001b[38;5;124m\"\u001b[39m\u001b[38;5;124m!i\u001b[39m\u001b[38;5;124m\"\u001b[39m, buf\u001b[38;5;241m.\u001b[39mgetvalue())\n\u001b[1;32m    432\u001b[0m     \u001b[38;5;28;01mif\u001b[39;00m size \u001b[38;5;241m==\u001b[39m \u001b[38;5;241m-\u001b[39m\u001b[38;5;241m1\u001b[39m:\n",
      "File \u001b[0;32m/opt/anaconda3/lib/python3.12/multiprocessing/connection.py:395\u001b[0m, in \u001b[0;36mConnection._recv\u001b[0;34m(self, size, read)\u001b[0m\n\u001b[1;32m    393\u001b[0m remaining \u001b[38;5;241m=\u001b[39m size\n\u001b[1;32m    394\u001b[0m \u001b[38;5;28;01mwhile\u001b[39;00m remaining \u001b[38;5;241m>\u001b[39m \u001b[38;5;241m0\u001b[39m:\n\u001b[0;32m--> 395\u001b[0m     chunk \u001b[38;5;241m=\u001b[39m read(handle, remaining)\n\u001b[1;32m    396\u001b[0m     n \u001b[38;5;241m=\u001b[39m \u001b[38;5;28mlen\u001b[39m(chunk)\n\u001b[1;32m    397\u001b[0m     \u001b[38;5;28;01mif\u001b[39;00m n \u001b[38;5;241m==\u001b[39m \u001b[38;5;241m0\u001b[39m:\n",
      "\u001b[0;31mKeyboardInterrupt\u001b[0m: "
     ]
    }
   ],
   "source": [
    "keyword_to_category = {keyword: category for category, keywords in expanded_categories.items() for keyword in keywords}\n",
    "\n",
    "if 'Conversations' in df.columns:\n",
    "    # Replace NaN with empty strings and ensure all values are strings\n",
    "    text_column = df['Conversations'].fillna(\"\").astype(str)\n",
    "else:\n",
    "    raise ValueError(\"CSV does not contain a 'Conversations' column.\")\n",
    "\n",
    "# Parameters for chunking\n",
    "chunk_size = 1000  # Process 1000 rows at a time\n",
    "counter = 0        # Initialize a counter\n",
    "categories_detected = [] \n",
    "\n",
    "# Process the text in chunks\n",
    "for i in range(0, len(text_column), chunk_size):\n",
    "    # Select the current chunk\n",
    "    chunk = text_column[i:i + chunk_size]\n",
    "    \n",
    "    # Use multi-threading with nlp.pipe\n",
    "    docs = list(nlp.pipe(chunk, n_process=-1, batch_size=100))\n",
    "    \n",
    "    for doc in docs:\n",
    "        # Cleaned tokens: lowercase, no stopwords, no spaces, only alphabetic tokens\n",
    "        cleaned_tokens = [\n",
    "            t.lower_ for t in doc\n",
    "            if not t.is_stop and not t.is_space and t.is_alpha\n",
    "        ]\n",
    "        \n",
    "        matched_categories = {keyword_to_category[token] for token in cleaned_tokens if token in keyword_to_category}\n",
    "        \n",
    "        categories_detected.append(\", \".join(matched_categories) if matched_categories else \"Other\")\n",
    "        \n",
    "        # Increment the counter\n",
    "        counter += 1\n",
    "        \n",
    "        # Print progress every 100 iterations\n",
    "        if counter % 100 == 0:\n",
    "            print(f\"Processed {counter} texts. Latest categories: {categories_detected[-1]}\")\n",
    "\n",
    "df['DetectedCategories'] = categories_detected\n",
    "\n",
    "# Final print statement\n",
    "print(f\"Completed processing {counter} texts!\")"
   ]
  },
  {
   "cell_type": "code",
   "execution_count": null,
   "metadata": {},
   "outputs": [
    {
     "name": "stdout",
     "output_type": "stream",
     "text": [
      "DetectedCategories\n",
      "Other                                                       517\n",
      "Optimization, Feature Request, Bug, Theoretical Question    409\n",
      "Feature Request                                             204\n",
      "Feature Request, Bug                                        190\n",
      "Feature Request, Bug, Theoretical Question                  173\n",
      "Bug                                                         141\n",
      "Optimization, Feature Request, Bug                          132\n",
      "Optimization                                                 48\n",
      "Bug, Theoretical Question                                    47\n",
      "Feature Request, Theoretical Question                        45\n",
      "Optimization, Bug, Theoretical Question                      44\n",
      "Theoretical Question                                         43\n",
      "Optimization, Feature Request                                43\n",
      "Optimization, Feature Request, Theoretical Question          30\n",
      "Optimization, Bug                                            23\n",
      "Name: count, dtype: int64\n"
     ]
    },
    {
     "data": {
      "image/png": "[encoded data removed]",
      "text/plain": [
       "<Figure size 640x480 with 1 Axes>"
      ]
     },
     "metadata": {},
     "output_type": "display_data"
    }
   ],
   "source": [
    "issue_counts = df['DetectedCategories'].value_counts()\n",
    "print(issue_counts)\n",
    "\n",
    "issue_counts.plot(kind='barh', title='Types of Issues')\n",
    "plt.ylabel('Issue Type')\n",
    "plt.xlabel('Count')\n",
    "plt.show()"
   ]
  }
 ],
 "metadata": {
  "kernelspec": {
   "display_name": "base",
   "language": "python",
   "name": "python3"
  },
  "language_info": {
   "codemirror_mode": {
    "name": "ipython",
    "version": 3
   },
   "file_extension": ".py",
   "mimetype": "text/x-python",
   "name": "python",
   "nbconvert_exporter": "python",
   "pygments_lexer": "ipython3",
   "version": "3.12.7"
  }
 },
 "nbformat": 4,
 "nbformat_minor": 2
}
