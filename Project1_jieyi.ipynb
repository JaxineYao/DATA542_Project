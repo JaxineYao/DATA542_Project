{
 "cells": [
  {
   "cell_type": "code",
   "execution_count": 15,
   "metadata": {},
   "outputs": [
    {
     "name": "stdout",
     "output_type": "stream",
     "text": [
      "Processed and saved: DevGPT/snapshot_20230824/20230824_101836_issue_sharings.csv\n",
      "Processed and saved: DevGPT/snapshot_20230831/20230831_061759_issue_sharings.csv\n",
      "Processed and saved: DevGPT/snapshot_20230727/20230727_195941_issue_sharings.csv\n",
      "Processed and saved: DevGPT/snapshot_20230810/20230810_123938_issue_sharings.csv\n",
      "Processed and saved: DevGPT/snapshot_20230817/20230817_130502_issue_sharings.csv\n",
      "Processed and saved: DevGPT/snapshot_20230803/20230803_094705_issue_sharings.csv\n",
      "All files combined and saved as combined_issue_sharings.csv\n"
     ]
    }
   ],
   "source": [
    "import glob\n",
    "import json\n",
    "import pandas as pd\n",
    "\n",
    "# Define the file pattern to find JSON files\n",
    "file_pattern = \"DevGPT/snapshot_*/**/*_issue_sharings.json\"\n",
    "\n",
    "# Get all matching file paths\n",
    "file_paths = glob.glob(file_pattern, recursive=True)\n",
    "\n",
    "# Define categories for issue classification\n",
    "categories = {\n",
    "    'Bug': ['bug', 'error', 'issue', 'fix', 'debug'],\n",
    "    'Feature Request': ['feature', 'request', 'add', 'implement', 'enhance'],\n",
    "    'Theoretical Question': ['concept', 'theory', 'explain', 'understand', 'definition'],\n",
    "    'Optimization': ['optimize', 'performance', 'speed', 'efficient', 'improve']\n",
    "}\n",
    "\n",
    "# Function to classify issues based on title\n",
    "def classify_issue(title):\n",
    "    for category, keywords in categories.items():\n",
    "        if any(keyword.lower() in title.lower() for keyword in keywords):\n",
    "            return category\n",
    "    return 'Other'\n",
    "\n",
    "# Initialize a list to store DataFrames for later merging (optional)\n",
    "combined_dfs = []\n",
    "\n",
    "# Loop through each file and process\n",
    "for file_path in file_paths:\n",
    "    try:\n",
    "        # Load JSON file\n",
    "        with open(file_path, 'r') as file:\n",
    "            data = json.load(file)\n",
    "        \n",
    "        # Flatten the JSON structure\n",
    "        df = pd.json_normalize(\n",
    "            data[\"Sources\"],\n",
    "            record_path=[\"ChatgptSharing\"],  # Path to nested data\n",
    "            meta=[\"Author\"],  # Include top-level metadata\n",
    "            sep=\"_\"\n",
    "        )\n",
    "        \n",
    "        # Convert date columns to datetime\n",
    "        df['DateOfConversation'] = pd.to_datetime(df.get('DateOfConversation'), errors='coerce')\n",
    "        df['DateOfAccess'] = pd.to_datetime(df.get('DateOfAccess'), errors='coerce')\n",
    "        \n",
    "        # Handle missing values in 'Title'\n",
    "        df['Title'] = df['Title'].fillna('Unknown')\n",
    "        \n",
    "        # Classify issues based on 'Title'\n",
    "        df['IssueType'] = df['Title'].apply(classify_issue)\n",
    "        \n",
    "        # Save individual file results as CSV\n",
    "        output_file = file_path.replace(\".json\", \".csv\")\n",
    "        df.to_csv(output_file, index=False)\n",
    "        print(f\"Processed and saved: {output_file}\")\n",
    "        \n",
    "        # Optionally store the DataFrame for later merging\n",
    "        combined_dfs.append(df)\n",
    "    \n",
    "    except Exception as e:\n",
    "        print(f\"Error processing file {file_path}: {e}\")\n",
    "\n",
    "# Optional: Combine all DataFrames into one\n",
    "if combined_dfs:\n",
    "    combined_data = pd.concat(combined_dfs, ignore_index=True)\n",
    "    combined_data.to_csv(\"combined_issue_sharings.csv\", index=False)\n",
    "    print(\"All files combined and saved as combined_issue_sharings.csv\")"
   ]
  },
  {
   "cell_type": "code",
   "execution_count": 16,
   "metadata": {},
   "outputs": [],
   "source": [
    "df = pd.read_csv('combined_issue_sharings.csv')\n",
    "df['DateOfConversation'] = pd.to_datetime(df['DateOfConversation'], errors='coerce')\n",
    "df['DateOfAccess'] = pd.to_datetime(df['DateOfAccess'], errors='coerce')"
   ]
  },
  {
   "cell_type": "code",
   "execution_count": 17,
   "metadata": {},
   "outputs": [],
   "source": [
    "# Convert to datetime\n",
    "df['DateOfConversation'] = pd.to_datetime(df['DateOfConversation'], errors='coerce')\n",
    "df['DateOfAccess'] = pd.to_datetime(df['DateOfAccess'], errors='coerce')\n",
    "\n",
    "# Handle Missing Values\n",
    "df.fillna({'Title': 'No Title', 'HTMLContent': ''}, inplace=True)\n",
    "\n",
    "\n",
    "\n",
    "# Create New Feature: Token Efficiency\n",
    "df['TokenEfficiency'] = df['TokensOfAnswers'] / df['TokensOfPrompts']\n",
    "\n",
    "# Save Cleaned Data\n",
    "df.to_csv('cleaned_data.csv', index=False)"
   ]
  },
  {
   "cell_type": "code",
   "execution_count": null,
   "metadata": {},
   "outputs": [],
   "source": []
  },
  {
   "cell_type": "code",
   "execution_count": 18,
   "metadata": {},
   "outputs": [
    {
     "name": "stdout",
     "output_type": "stream",
     "text": [
      "<class 'pandas.core.frame.DataFrame'>\n",
      "RangeIndex: 2089 entries, 0 to 2088\n",
      "Data columns (total 18 columns):\n",
      " #   Column                     Non-Null Count  Dtype  \n",
      "---  ------                     --------------  -----  \n",
      " 0   URL                        2089 non-null   object \n",
      " 1   Status                     2089 non-null   int64  \n",
      " 2   DateOfConversation         1797 non-null   object \n",
      " 3   DateOfAccess               1896 non-null   object \n",
      " 4   Title                      2089 non-null   object \n",
      " 5   NumberOfPrompts            1896 non-null   float64\n",
      " 6   TokensOfPrompts            1896 non-null   float64\n",
      " 7   TokensOfAnswers            1896 non-null   float64\n",
      " 8   Model                      1632 non-null   object \n",
      " 9   Conversations              1896 non-null   object \n",
      " 10  HTMLContent                1896 non-null   object \n",
      " 11  Mention_MentionedURL       2089 non-null   object \n",
      " 12  Mention_MentionedProperty  2089 non-null   object \n",
      " 13  Mention_MentionedAuthor    2089 non-null   object \n",
      " 14  Mention_MentionedText      2089 non-null   object \n",
      " 15  Author                     2089 non-null   object \n",
      " 16  IssueType                  2089 non-null   object \n",
      " 17  TokenEfficiency            1896 non-null   float64\n",
      "dtypes: float64(4), int64(1), object(13)\n",
      "memory usage: 293.9+ KB\n"
     ]
    }
   ],
   "source": [
    "df = pd.read_csv('cleaned_data.csv')\n",
    "df.info()"
   ]
  },
  {
   "cell_type": "code",
   "execution_count": 19,
   "metadata": {},
   "outputs": [
    {
     "name": "stdout",
     "output_type": "stream",
     "text": [
      "IssueType\n",
      "Other                   1803\n",
      "Bug                      197\n",
      "Feature Request           60\n",
      "Optimization              23\n",
      "Theoretical Question       6\n",
      "Name: count, dtype: int64\n"
     ]
    }
   ],
   "source": [
    "categories = {\n",
    "    'Bug': ['bug', 'error', 'issue', 'fix'],\n",
    "    'Feature Request': ['feature', 'request', 'implement', 'add'],\n",
    "    'Theoretical Question': ['theoretical', 'concept', 'explain', 'understand'],\n",
    "    'Optimization': ['optimize', 'performance', 'improve', 'efficient']\n",
    "}\n",
    "\n",
    "def classify_issue(title):\n",
    "    for category, keywords in categories.items():\n",
    "        if any(keyword.lower() in title.lower() for keyword in keywords):\n",
    "            return category\n",
    "    return 'Other'\n",
    "\n",
    "df['IssueType'] = df['Title'].apply(classify_issue)\n",
    "\n",
    "\n",
    "print(df['IssueType'].value_counts())"
   ]
  },
  {
   "cell_type": "code",
   "execution_count": 20,
   "metadata": {},
   "outputs": [
    {
     "name": "stdout",
     "output_type": "stream",
     "text": [
      "IssueType\n",
      "Other                   1803\n",
      "Bug                      197\n",
      "Feature Request           60\n",
      "Optimization              23\n",
      "Theoretical Question       6\n",
      "Name: count, dtype: int64\n"
     ]
    },
    {
     "data": {
      "image/png": "[encoded data removed]",
      "text/plain": [
       "<Figure size 640x480 with 1 Axes>"
      ]
     },
     "metadata": {},
     "output_type": "display_data"
    }
   ],
   "source": [
    "\n",
    "issue_counts = df['IssueType'].value_counts()\n",
    "print(issue_counts)\n",
    "\n",
    "import matplotlib.pyplot as plt\n",
    "\n",
    "issue_counts.plot(kind='bar', title='Types of Issues')\n",
    "plt.xlabel('Issue Type')\n",
    "plt.ylabel('Count')\n",
    "plt.show()"
   ]
  },
  {
   "cell_type": "code",
   "execution_count": 21,
   "metadata": {},
   "outputs": [
    {
     "name": "stdout",
     "output_type": "stream",
     "text": [
      "Top keywords: ['answer' 'code' 'code_block_0' 'content' 'data' 'div' 'file' 'id'\n",
      " 'listofcode' 'model' 'prompt' 'py' 'python' 'replacestring' 'response'\n",
      " 'return' 'self' 'type' 'use' 'using']\n"
     ]
    }
   ],
   "source": [
    "from sklearn.feature_extraction.text import CountVectorizer\n",
    "\n",
    "# Replace NaN values with an empty string\n",
    "df['Conversations'] = df['Conversations'].fillna(\"\")\n",
    "\n",
    "# Ensure all entries in the column are strings\n",
    "df['Conversations'] = df['Conversations'].astype(str)\n",
    "\n",
    "# Extract keywords using CountVectorizer\n",
    "vectorizer = CountVectorizer(stop_words='english', max_features=20)\n",
    "keywords_matrix = vectorizer.fit_transform(df['Conversations'])\n",
    "\n",
    "# Get feature names (keywords)\n",
    "keywords = vectorizer.get_feature_names_out()\n",
    "\n",
    "# Print extracted keywords\n",
    "print(\"Top keywords:\", keywords)\n",
    "pd.DataFrame({\"Keywords\": keywords}).to_csv(\"keywords.csv\", index=False)"
   ]
  },
  {
   "cell_type": "code",
   "execution_count": 22,
   "metadata": {},
   "outputs": [
    {
     "name": "stdout",
     "output_type": "stream",
     "text": [
      "                      TokensOfPrompts  TokensOfAnswers\n",
      "IssueType                                             \n",
      "Bug                        974.807107      1584.360406\n",
      "Feature Request           2517.433333      2992.833333\n",
      "Optimization               604.652174       550.608696\n",
      "Other                      691.407453      1827.168323\n",
      "Theoretical Question       295.000000       786.000000\n"
     ]
    }
   ],
   "source": [
    "token_summary = df.groupby('IssueType')[['TokensOfPrompts', 'TokensOfAnswers']].mean()\n",
    "print(token_summary)"
   ]
  },
  {
   "cell_type": "code",
   "execution_count": 23,
   "metadata": {},
   "outputs": [
    {
     "name": "stdout",
     "output_type": "stream",
     "text": [
      "Language usage:\n",
      "JavaScript: 1854\n",
      "Python: 1297\n",
      "Java: 34\n",
      "CSS: 605\n",
      "Unknown: 193\n",
      "HTML: 2\n"
     ]
    }
   ],
   "source": [
    "import re\n",
    "from collections import Counter\n",
    "\n",
    "# Define patterns for each language\n",
    "language_patterns = {\n",
    "    'Python': r'\\bdef\\b|\\bimport\\b|\\bprint\\(',\n",
    "    'JavaScript': r'\\bfunction\\b|\\bvar\\b|\\blet\\b|\\bconsole\\.log\\(',\n",
    "    'Java': r'\\bpublic class\\b|\\bSystem\\.out\\.println\\b',\n",
    "    'HTML': r'<html>|<head>|<body>',\n",
    "    'CSS': r'\\{|\\bcolor:\\b|\\bfont-size\\b',\n",
    "    'SQL': r'\\bSELECT\\b|\\bFROM\\b|\\bWHERE\\b'\n",
    "}\n",
    "\n",
    "# Function to detect language\n",
    "def detect_language(code_snippet):\n",
    "    for language, pattern in language_patterns.items():\n",
    "        if re.search(pattern, code_snippet, re.IGNORECASE):\n",
    "            return language\n",
    "    return 'Unknown'\n",
    "\n",
    "# Combine code snippets from relevant columns\n",
    "code_snippets = df['HTMLContent'].dropna().tolist() + df['Conversations'].dropna().tolist()\n",
    "\n",
    "# Detect languages\n",
    "detected_languages = [detect_language(snippet) for snippet in code_snippets]\n",
    "\n",
    "# Count occurrences of each language\n",
    "language_counts = Counter(detected_languages)\n",
    "\n",
    "# Display results\n",
    "print(\"Language usage:\")\n",
    "for language, count in language_counts.items():\n",
    "    print(f\"{language}: {count}\")"
   ]
  },
  {
   "cell_type": "code",
   "execution_count": 24,
   "metadata": {},
   "outputs": [
    {
     "data": {
      "image/png": "[encoded data removed]",
      "text/plain": [
       "<Figure size 640x480 with 1 Axes>"
      ]
     },
     "metadata": {},
     "output_type": "display_data"
    }
   ],
   "source": [
    "import matplotlib.pyplot as plt\n",
    "\n",
    "# Convert language counts to DataFrame\n",
    "language_df = pd.DataFrame(language_counts.items(), columns=['Language', 'Count'])\n",
    "\n",
    "# Plot bar chart\n",
    "language_df.sort_values('Count', ascending=False).plot(\n",
    "    kind='bar', x='Language', y='Count', legend=False, title='Programming Language Usage'\n",
    ")\n",
    "plt.ylabel('Count')\n",
    "plt.show()"
   ]
  }
 ],
 "metadata": {
  "kernelspec": {
   "display_name": "base",
   "language": "python",
   "name": "python3"
  },
  "language_info": {
   "codemirror_mode": {
    "name": "ipython",
    "version": 3
   },
   "file_extension": ".py",
   "mimetype": "text/x-python",
   "name": "python",
   "nbconvert_exporter": "python",
   "pygments_lexer": "ipython3",
   "version": "3.12.7"
  }
 },
 "nbformat": 4,
 "nbformat_minor": 2
}
